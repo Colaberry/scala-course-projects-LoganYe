{
 "cells": [
  {
   "cell_type": "code",
   "execution_count": 1,
   "metadata": {
    "collapsed": false
   },
   "outputs": [
    {
     "data": {
      "text/plain": [
       "defined \u001b[32mclass \u001b[36mTypeClass\u001b[0m"
      ]
     },
     "metadata": {},
     "output_type": "display_data"
    }
   ],
   "source": [
    "class TypeClass[T]"
   ]
  },
  {
   "cell_type": "code",
   "execution_count": 3,
   "metadata": {
    "collapsed": false
   },
   "outputs": [
    {
     "data": {
      "text/plain": [
       "defined \u001b[32mclass \u001b[36mParentClass\u001b[0m\n",
       "defined \u001b[32mclass \u001b[36mChildClass\u001b[0m\n",
       "defined \u001b[32mclass \u001b[36mTypeClass\u001b[0m\n",
       "\u001b[36mp\u001b[0m: \u001b[32m$user\u001b[0m.\u001b[32mTypeClass\u001b[0m[\u001b[32m$user\u001b[0m.\u001b[32mParentClass\u001b[0m] = cmd2$$user$TypeClass@514cb6c\n",
       "\u001b[36mc\u001b[0m: \u001b[32m$user\u001b[0m.\u001b[32mTypeClass\u001b[0m[\u001b[32m$user\u001b[0m.\u001b[32mChildClass\u001b[0m] = cmd2$$user$TypeClass@2242cad9"
      ]
     },
     "metadata": {},
     "output_type": "display_data"
    }
   ],
   "source": [
    "class ParentClass\n",
    "class ChildClass extends ParentClass\n",
    "\n",
    "class TypeClass[T]\n",
    "\n",
    "val p = new TypeClass[ParentClass]\n",
    "val c = new TypeClass[ChildClass]\n"
   ]
  },
  {
   "cell_type": "code",
   "execution_count": 3,
   "metadata": {
    "collapsed": false
   },
   "outputs": [
    {
     "ename": "",
     "evalue": "",
     "output_type": "error",
     "traceback": [
      "\u001b[31mMain.scala:30: type mismatch;",
      " found   : cmd3.this.$ref$cmd2.TypeClass[cmd3.this.$ref$cmd2.ChildClass]",
      " required: cmd3.this.$ref$cmd2.TypeClass[cmd3.this.$ref$cmd2.ParentClass]",
      "Note: cmd3.this.$ref$cmd2.ChildClass <: cmd3.this.$ref$cmd2.ParentClass, but class TypeClass is invariant in type T.",
      "You may wish to define T as +T instead. (SLS 4.5)",
      "}.apply",
      "  ^\u001b[0m"
     ]
    }
   ],
   "source": [
    "val pr:TypeClass[ParentClass] = c"
   ]
  },
  {
   "cell_type": "code",
   "execution_count": 4,
   "metadata": {
    "collapsed": false
   },
   "outputs": [
    {
     "data": {
      "text/plain": [
       "defined \u001b[32mclass \u001b[36mTypeClass\u001b[0m\n",
       "\u001b[36mp\u001b[0m: \u001b[32m$user\u001b[0m.\u001b[32mTypeClass\u001b[0m[\u001b[32mParentClass\u001b[0m] = cmd3$$user$TypeClass@538f2166\n",
       "\u001b[36mc\u001b[0m: \u001b[32m$user\u001b[0m.\u001b[32mTypeClass\u001b[0m[\u001b[32mChildClass\u001b[0m] = cmd3$$user$TypeClass@6f28e621\n",
       "\u001b[36mpr\u001b[0m: \u001b[32m$user\u001b[0m.\u001b[32mTypeClass\u001b[0m[\u001b[32mParentClass\u001b[0m] = cmd3$$user$TypeClass@6f28e621"
      ]
     },
     "metadata": {},
     "output_type": "display_data"
    }
   ],
   "source": [
    "// CO-VARIANCE\n",
    "class TypeClass[+T]\n",
    "\n",
    "val p = new TypeClass[ParentClass]\n",
    "val c = new TypeClass[ChildClass]\n",
    "\n",
    "val pr:TypeClass[ParentClass] = c"
   ]
  },
  {
   "cell_type": "code",
   "execution_count": 5,
   "metadata": {
    "collapsed": false
   },
   "outputs": [
    {
     "data": {
      "text/plain": [
       "defined \u001b[32mclass \u001b[36mTypeClass\u001b[0m\n",
       "\u001b[36mp\u001b[0m: \u001b[32m$user\u001b[0m.\u001b[32mTypeClass\u001b[0m[\u001b[32mParentClass\u001b[0m] = cmd4$$user$TypeClass@4950d8be\n",
       "\u001b[36mc\u001b[0m: \u001b[32m$user\u001b[0m.\u001b[32mTypeClass\u001b[0m[\u001b[32mChildClass\u001b[0m] = cmd4$$user$TypeClass@68c157b8\n",
       "\u001b[36mpr\u001b[0m: \u001b[32m$user\u001b[0m.\u001b[32mTypeClass\u001b[0m[\u001b[32mParentClass\u001b[0m] = cmd4$$user$TypeClass@4950d8be"
      ]
     },
     "metadata": {},
     "output_type": "display_data"
    }
   ],
   "source": [
    "// CO-VARIANCE\n",
    "class TypeClass[-T]\n",
    "\n",
    "val p = new TypeClass[ParentClass]\n",
    "val c = new TypeClass[ChildClass]\n",
    "\n",
    "val pr:TypeClass[ParentClass] = p"
   ]
  },
  {
   "cell_type": "code",
   "execution_count": 6,
   "metadata": {
    "collapsed": false
   },
   "outputs": [
    {
     "data": {
      "text/plain": [
       "defined \u001b[32mclass \u001b[36mSomeOtherClass\u001b[0m\n",
       "defined \u001b[32mclass \u001b[36mGreatList\u001b[0m\n",
       "defined \u001b[32mclass \u001b[36mSomeList\u001b[0m\n",
       "defined \u001b[32mclass \u001b[36mOrderedParentClass\u001b[0m\n",
       "\u001b[36mc\u001b[0m: \u001b[32m$user\u001b[0m.\u001b[32mSomeList\u001b[0m[\u001b[32m$user\u001b[0m.\u001b[32mOrderedParentClass\u001b[0m] = cmd5$$user$SomeList@5462f27c"
      ]
     },
     "metadata": {},
     "output_type": "display_data"
    }
   ],
   "source": [
    "// LOWER, UPPER BOUNDS\n",
    "// Hint: UML Inheritance Direction\n",
    "class SomeOtherClass\n",
    "class GreatList[T] {\n",
    "    def add[S>:T](n:S) = {  //LowerBound S must be Super Class of T\n",
    "    \n",
    "    }\n",
    "    def altAdd[S<:T](n:S) = {  // Upper Bound S must be a sub Class of T\n",
    "    \n",
    "    }\n",
    "    // Works with Traits too\n",
    "    def altTraitAdd[T<: Ordered[T]](n:Ordered[T])={  // T must be mixed with Ordered Trait\n",
    "    \n",
    "    }\n",
    "}\n",
    "\n",
    "class SomeList[T<: Ordered[T]]\n",
    "// val c = new SomeList[ParentClass]  // ==> Error\n",
    "\n",
    "\n",
    "class OrderedParentClass extends Ordered[OrderedParentClass] {\n",
    "  def compare(that:OrderedParentClass)= {\n",
    "    0\n",
    "  }\n",
    "}\n",
    "val c = new SomeList[OrderedParentClass] \n",
    "\n"
   ]
  },
  {
   "cell_type": "code",
   "execution_count": null,
   "metadata": {
    "collapsed": true
   },
   "outputs": [],
   "source": []
  }
 ],
 "metadata": {
  "kernelspec": {
   "display_name": "Scala 2.11",
   "language": "scala211",
   "name": "scala211"
  },
  "language_info": {
   "codemirror_mode": "text/x-scala",
   "file_extension": ".scala",
   "mimetype": "text/x-scala",
   "name": "scala211",
   "pygments_lexer": "scala",
   "version": "2.11.7"
  }
 },
 "nbformat": 4,
 "nbformat_minor": 1
}
