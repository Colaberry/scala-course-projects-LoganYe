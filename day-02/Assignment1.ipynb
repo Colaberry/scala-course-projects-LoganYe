{
 "cells": [
  {
   "cell_type": "code",
   "execution_count": 79,
   "metadata": {
    "collapsed": false
   },
   "outputs": [
    {
     "data": {
      "text/plain": [
       "defined \u001b[32mclass \u001b[36mStudent\u001b[0m"
      ]
     },
     "metadata": {},
     "output_type": "display_data"
    }
   ],
   "source": [
    "//class Student(_id:Int){\n",
    "//    val student_id = _id\n",
    "//}\n",
    "case class Student(student_id:Int)"
   ]
  },
  {
   "cell_type": "code",
   "execution_count": 80,
   "metadata": {
    "collapsed": false
   },
   "outputs": [
    {
     "data": {
      "text/plain": [
       "defined \u001b[32mclass \u001b[36mCourse\u001b[0m"
      ]
     },
     "metadata": {},
     "output_type": "display_data"
    }
   ],
   "source": [
    "class Course(_id:Int, _list:List[Student]){\n",
    "    val course_id = _id\n",
    "    var student_list = _list\n",
    "}\n",
    "//class Course(course_id:Int, student_list:List[Student])\n",
    "//cannot use since have var in the class"
   ]
  },
  {
   "cell_type": "code",
   "execution_count": 81,
   "metadata": {
    "collapsed": false
   },
   "outputs": [
    {
     "data": {
      "text/plain": [
       "defined \u001b[32mclass \u001b[36mAll_Courses\u001b[0m"
      ]
     },
     "metadata": {},
     "output_type": "display_data"
    }
   ],
   "source": [
    "class All_Courses(_list:List[Course]){\n",
    "    var courses = _list\n",
    "}"
   ]
  },
  {
   "cell_type": "code",
   "execution_count": 90,
   "metadata": {
    "collapsed": false
   },
   "outputs": [
    {
     "data": {
      "text/plain": [
       "defined \u001b[32mfunction \u001b[36mStudent_Enroll\u001b[0m"
      ]
     },
     "metadata": {},
     "output_type": "display_data"
    }
   ],
   "source": [
    "def Student_Enroll(_studentID:Int): Student = {\n",
    "    new Student(_studentID)\n",
    "}"
   ]
  },
  {
   "cell_type": "code",
   "execution_count": 91,
   "metadata": {
    "collapsed": false
   },
   "outputs": [
    {
     "data": {
      "text/plain": [
       "defined \u001b[32mfunction \u001b[36mOpen_New_Course\u001b[0m"
      ]
     },
     "metadata": {},
     "output_type": "display_data"
    }
   ],
   "source": [
    "def Open_New_Course(_courseID:Int, _all_courses:All_Courses): Course = {\n",
    "    var newcourse = new Course(_courseID, List[Student]())\n",
    "    _all_courses.courses = newcourse :: _all_courses.courses\n",
    "    newcourse\n",
    "}"
   ]
  },
  {
   "cell_type": "code",
   "execution_count": 84,
   "metadata": {
    "collapsed": false
   },
   "outputs": [
    {
     "data": {
      "text/plain": [
       "defined \u001b[32mfunction \u001b[36mEnrollment_Course\u001b[0m"
      ]
     },
     "metadata": {},
     "output_type": "display_data"
    }
   ],
   "source": [
    "def Enrollment_Course(_student:Student, _course:Course){\n",
    "    _course.student_list = _student :: _course.student_list\n",
    "}"
   ]
  },
  {
   "cell_type": "code",
   "execution_count": 85,
   "metadata": {
    "collapsed": false
   },
   "outputs": [
    {
     "data": {
      "text/plain": [
       "defined \u001b[32mfunction \u001b[36mWithdraw_Course\u001b[0m"
      ]
     },
     "metadata": {},
     "output_type": "display_data"
    }
   ],
   "source": [
    "def Withdraw_Course(_student:Student, _course:Course){\n",
    "    _course.student_list = _course.student_list.filter(_ != _student)\n",
    "}"
   ]
  },
  {
   "cell_type": "code",
   "execution_count": 86,
   "metadata": {
    "collapsed": false
   },
   "outputs": [
    {
     "data": {
      "text/plain": [
       "defined \u001b[32mfunction \u001b[36mis_contain\u001b[0m"
      ]
     },
     "metadata": {},
     "output_type": "display_data"
    }
   ],
   "source": [
    "def is_contain(_course:Course, _student:Student): Boolean = {\n",
    "    _course.student_list.find(x=>x == _student) match {\n",
    "    case Some(_) => true\n",
    "    case None => false\n",
    "    }\n",
    "}"
   ]
  },
  {
   "cell_type": "code",
   "execution_count": 99,
   "metadata": {
    "collapsed": false
   },
   "outputs": [
    {
     "data": {
      "text/plain": [
       "defined \u001b[32mfunction \u001b[36mShow_Student_Class\u001b[0m"
      ]
     },
     "metadata": {},
     "output_type": "display_data"
    }
   ],
   "source": [
    "def Show_Student_Class(_student:Student, _courses:All_Courses){\n",
    "    var this_student_courses = List[Course]()\n",
    "    for (course <- _courses.courses) {\n",
    "        var bool = is_contain(course, _student)\n",
    "        if (bool) {\n",
    "            this_student_courses = course :: this_student_courses\n",
    "        }\n",
    "    }\n",
    "    println(\"Student: \" + _student.student_id)\n",
    "    println(\n",
    "            for (course <- this_student_courses) \n",
    "            yield course.course_id\n",
    "           )\n",
    "}"
   ]
  },
  {
   "cell_type": "code",
   "execution_count": 102,
   "metadata": {
    "collapsed": false
   },
   "outputs": [
    {
     "data": {
      "text/plain": [
       "defined \u001b[32mfunction \u001b[36mEvents\u001b[0m"
      ]
     },
     "metadata": {},
     "output_type": "display_data"
    }
   ],
   "source": [
    "def Events(){\n",
    "    var all_courses = new All_Courses(List[Course]())\n",
    "    var Math = Open_New_Course(101, all_courses)\n",
    "    var Art = Open_New_Course(102, all_courses)\n",
    "    var Programming = Open_New_Course(103, all_courses)\n",
    "    println(\"Courses are: \")\n",
    "    println(\n",
    "            for (course <- all_courses.courses) \n",
    "            yield course.course_id\n",
    "           )\n",
    "           \n",
    "    var Jack = Student_Enroll(11111)\n",
    "    var Logan = Student_Enroll(11112)\n",
    "    var Emily = Student_Enroll(11113)\n",
    "    \n",
    "    Enrollment_Course(Jack, Math)\n",
    "    Enrollment_Course(Logan, Math)\n",
    "    Enrollment_Course(Logan, Programming)\n",
    "    Enrollment_Course(Logan, Art)\n",
    "    Enrollment_Course(Emily, Math)\n",
    "    Enrollment_Course(Emily, Art)\n",
    "    \n",
    "    Show_Student_Class(Jack, all_courses)\n",
    "    Show_Student_Class(Logan, all_courses)\n",
    "    Show_Student_Class(Emily, all_courses)\n",
    "    \n",
    "    Withdraw_Course(Logan, Art)\n",
    "    \n",
    "    Show_Student_Class(Jack, all_courses)\n",
    "    Show_Student_Class(Logan, all_courses)\n",
    "    Show_Student_Class(Emily, all_courses)\n",
    "}"
   ]
  },
  {
   "cell_type": "code",
   "execution_count": 103,
   "metadata": {
    "collapsed": false
   },
   "outputs": [
    {
     "name": "stdout",
     "output_type": "stream",
     "text": [
      "Courses are: \n",
      "List(103, 102, 101)\n",
      "Student: 11111\n",
      "List(101)\n",
      "Student: 11112\n",
      "List(101, 102, 103)\n",
      "Student: 11113\n",
      "List(101, 102)\n",
      "Student: 11111\n",
      "List(101)\n",
      "Student: 11112\n",
      "List(101, 103)\n",
      "Student: 11113\n",
      "List(101, 102)\n"
     ]
    },
    {
     "data": {
      "text/plain": []
     },
     "metadata": {},
     "output_type": "display_data"
    }
   ],
   "source": [
    "Events"
   ]
  },
  {
   "cell_type": "code",
   "execution_count": null,
   "metadata": {
    "collapsed": true
   },
   "outputs": [],
   "source": []
  }
 ],
 "metadata": {
  "kernelspec": {
   "display_name": "Scala 2.11",
   "language": "scala211",
   "name": "scala211"
  },
  "language_info": {
   "codemirror_mode": "text/x-scala",
   "file_extension": ".scala",
   "mimetype": "text/x-scala",
   "name": "scala211",
   "pygments_lexer": "scala",
   "version": "2.11.7"
  }
 },
 "nbformat": 4,
 "nbformat_minor": 1
}
